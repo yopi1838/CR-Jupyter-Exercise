{
 "cells": [
  {
   "cell_type": "markdown",
   "id": "c5df79a9-ca94-4c47-8042-8a1bf3a65e17",
   "metadata": {},
   "source": [
    "# Calculating pi using Monte Carlo methods"
   ]
  },
  {
   "cell_type": "markdown",
   "id": "3e073767-160d-451b-b757-fe5ae923309b",
   "metadata": {
    "jp-MarkdownHeadingCollapsed": true,
    "tags": []
   },
   "source": [
    "## Relevant formulas\n",
    "\n",
    "- square area: $s = (2 r)^2$\n",
    "- circle area: $c = \\pi r^2$\n",
    "- $c/s = (\\pi r^2) / (4 r^2) = \\pi / 4$\n",
    "- $\\pi = 4 * c/s$"
   ]
  },
  {
   "cell_type": "markdown",
   "id": "cd18d36f-0cf6-4367-b582-b38c83b98a9a",
   "metadata": {},
   "source": [
    "## Image to visualize the concept\n",
    "\n",
    "![Darts](https://raw.githubusercontent.com/coderefinery/jupyter/main/example/darts.svg)"
   ]
  },
  {
   "cell_type": "code",
   "execution_count": 18,
   "id": "632c0bad-6c32-4bad-810e-b3a41528a48a",
   "metadata": {},
   "outputs": [],
   "source": [
    "# import two modules that we need\n",
    "import random\n",
    "import matplotlib.pyplot as plt"
   ]
  },
  {
   "cell_type": "code",
   "execution_count": 19,
   "id": "df443eec-4e13-444a-8470-99f9f38f7fb2",
   "metadata": {},
   "outputs": [],
   "source": [
    "# Initialize the number of points (throws)\n",
    "num_points = 1000"
   ]
  },
  {
   "cell_type": "code",
   "execution_count": 28,
   "id": "de9d9e2a-238e-4ac3-a132-50ef41f981bc",
   "metadata": {},
   "outputs": [],
   "source": [
    "# Throw darts\n"
   ]
  },
  {
   "cell_type": "code",
   "execution_count": 37,
   "id": "a7488a72-cb7c-421a-9e6a-770a9afc52c5",
   "metadata": {},
   "outputs": [
    {
     "data": {
      "application/vnd.jupyter.widget-view+json": {
       "model_id": "c498769fe9a4451face96fa783660111",
       "version_major": 2,
       "version_minor": 0
      },
      "text/plain": [
       "interactive(children=(IntSlider(value=100, description='num_points', max=5000, min=100, step=100), Output()), …"
      ]
     },
     "metadata": {},
     "output_type": "display_data"
    }
   ],
   "source": [
    "from ipywidgets import interact, IntSlider\n",
    "from IPython.display import display\n",
    "def f(num_points):\n",
    "    points  = []\n",
    "    hits = 0\n",
    "    for _ in range(num_points):\n",
    "        x,y = random.random(), random.random()\n",
    "        if x*x + y*y < 1.0:\n",
    "            hits += 1\n",
    "            points.append((x,y,\"red\"))\n",
    "        else:\n",
    "            points.append((x,y,\"blue\"))\n",
    "    # Plot results\n",
    "    x,y,colors = zip(*points)\n",
    "    fig, ax = plt.subplots()\n",
    "    fig.set_size_inches(6.0,6.0)\n",
    "    ax.scatter(x,y,c=colors)\n",
    "    circ = plt.Circle((0.0,0.0),1.0,fill=False)\n",
    "    ax.set_aspect(1)\n",
    "    ax.add_artist(circ)\n",
    "    plt.show()\n",
    "\n",
    "interactive_plot = interact(f,num_points=IntSlider(min=100, max=5000, step=100, value=0))"
   ]
  },
  {
   "cell_type": "code",
   "execution_count": 30,
   "id": "a585a4d8-1fd2-4c7f-8b71-623d12bf467f",
   "metadata": {},
   "outputs": [
    {
     "data": {
      "text/plain": [
       "3.1816"
      ]
     },
     "execution_count": 30,
     "metadata": {},
     "output_type": "execute_result"
    }
   ],
   "source": [
    "fraction = hits / num_points\n",
    "4 * fraction"
   ]
  },
  {
   "cell_type": "code",
   "execution_count": 27,
   "id": "a5f6fda5-ddd3-45f9-9d77-98c8382f055c",
   "metadata": {},
   "outputs": [],
   "source": [
    "num_points = 5000"
   ]
  },
  {
   "cell_type": "code",
   "execution_count": null,
   "id": "66a7f521-b425-4e70-a087-af17c56e5475",
   "metadata": {},
   "outputs": [],
   "source": []
  }
 ],
 "metadata": {
  "kernelspec": {
   "display_name": "Python 3 (ipykernel)",
   "language": "python",
   "name": "python3"
  },
  "language_info": {
   "codemirror_mode": {
    "name": "ipython",
    "version": 3
   },
   "file_extension": ".py",
   "mimetype": "text/x-python",
   "name": "python",
   "nbconvert_exporter": "python",
   "pygments_lexer": "ipython3",
   "version": "3.11.0"
  }
 },
 "nbformat": 4,
 "nbformat_minor": 5
}
