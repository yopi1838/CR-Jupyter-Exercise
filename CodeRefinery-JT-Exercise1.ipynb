{
 "cells": [
  {
   "cell_type": "markdown",
   "id": "c5df79a9-ca94-4c47-8042-8a1bf3a65e17",
   "metadata": {},
   "source": [
    "# Calculating pi using Monte Carlo methods"
   ]
  },
  {
   "cell_type": "markdown",
   "id": "3e073767-160d-451b-b757-fe5ae923309b",
   "metadata": {
    "jp-MarkdownHeadingCollapsed": true,
    "tags": []
   },
   "source": [
    "## Relevant formulas\n",
    "\n",
    "- square area: $s = (2 r)^2$\n",
    "- circle area: $c = \\pi r^2$\n",
    "- $c/s = (\\pi r^2) / (4 r^2) = \\pi / 4$\n",
    "- $\\pi = 4 * c/s$"
   ]
  },
  {
   "cell_type": "markdown",
   "id": "cd18d36f-0cf6-4367-b582-b38c83b98a9a",
   "metadata": {},
   "source": [
    "## Image to visualize the concept\n",
    "\n",
    "![Darts](https://raw.githubusercontent.com/coderefinery/jupyter/main/example/darts.svg)"
   ]
  },
  {
   "cell_type": "code",
   "execution_count": 1,
   "id": "632c0bad-6c32-4bad-810e-b3a41528a48a",
   "metadata": {},
   "outputs": [],
   "source": [
    "# import two modules that we need\n",
    "import random\n",
    "import matplotlib.pyplot as plt"
   ]
  },
  {
   "cell_type": "code",
   "execution_count": 2,
   "id": "df443eec-4e13-444a-8470-99f9f38f7fb2",
   "metadata": {},
   "outputs": [],
   "source": [
    "# Initialize the number of points (throws)\n",
    "num_points = 1000"
   ]
  },
  {
   "cell_type": "code",
   "execution_count": 3,
   "id": "a7488a72-cb7c-421a-9e6a-770a9afc52c5",
   "metadata": {},
   "outputs": [
    {
     "data": {
      "application/vnd.jupyter.widget-view+json": {
       "model_id": "757adfe96a72459abf554e84419adcc9",
       "version_major": 2,
       "version_minor": 0
      },
      "text/plain": [
       "interactive(children=(IntSlider(value=100, description='num_points', max=5000, min=100, step=100), FloatSlider…"
      ]
     },
     "metadata": {},
     "output_type": "display_data"
    }
   ],
   "source": [
    "from ipywidgets import interact, IntSlider, FloatSlider\n",
    "from IPython.display import display\n",
    "def f(num_points,d):\n",
    "    points  = []\n",
    "    hits = 0\n",
    "    for _ in range(num_points):\n",
    "        x,y = random.random()*d, random.random()*d\n",
    "        if x*x + y*y < d*d:\n",
    "            hits += 1\n",
    "            points.append((x,y,\"green\"))\n",
    "        else:\n",
    "            points.append((x,y,\"black\"))\n",
    "    # Plot results\n",
    "    x,y,colors = zip(*points)\n",
    "    fig, ax = plt.subplots()\n",
    "    fig.set_size_inches(8.0,8.0)\n",
    "    ax.scatter(x,y,c=colors)\n",
    "    circ = plt.Circle((0.0,0.0),d,fill=False)\n",
    "    ax.set_xlim([0,d])\n",
    "    ax.set_ylim([0,d])\n",
    "    ax.set_aspect(\"equal\")\n",
    "    \n",
    "    ax.add_artist(circ)\n",
    "    plt.show()\n",
    "\n",
    "interactive_plot = interact(f,num_points=IntSlider(min=100, max=5000, step=100, value=0),d=FloatSlider(min=1.0, max=5.0, step=0.1,value=1.0))"
   ]
  },
  {
   "cell_type": "code",
   "execution_count": 4,
   "id": "a585a4d8-1fd2-4c7f-8b71-623d12bf467f",
   "metadata": {},
   "outputs": [
    {
     "ename": "NameError",
     "evalue": "name 'hits' is not defined",
     "output_type": "error",
     "traceback": [
      "\u001b[1;31m----------------------------------------------------------------\u001b[0m",
      "\u001b[1;31mNameError\u001b[0m                      Traceback (most recent call last)",
      "Cell \u001b[1;32mIn[4], line 1\u001b[0m\n\u001b[1;32m----> 1\u001b[0m fraction \u001b[38;5;241m=\u001b[39m \u001b[43mhits\u001b[49m \u001b[38;5;241m/\u001b[39m num_points\n\u001b[0;32m      2\u001b[0m \u001b[38;5;241m4\u001b[39m \u001b[38;5;241m*\u001b[39m fraction\n",
      "\u001b[1;31mNameError\u001b[0m: name 'hits' is not defined"
     ]
    }
   ],
   "source": [
    "fraction = hits / num_points\n",
    "4 * fraction"
   ]
  }
 ],
 "metadata": {
  "kernelspec": {
   "display_name": "Python 3 (ipykernel)",
   "language": "python",
   "name": "python3"
  },
  "language_info": {
   "codemirror_mode": {
    "name": "ipython",
    "version": 3
   },
   "file_extension": ".py",
   "mimetype": "text/x-python",
   "name": "python",
   "nbconvert_exporter": "python",
   "pygments_lexer": "ipython3",
   "version": "3.11.0"
  }
 },
 "nbformat": 4,
 "nbformat_minor": 5
}
